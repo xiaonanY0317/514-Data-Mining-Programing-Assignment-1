{
  "cells": [
    {
      "cell_type": "code",
      "execution_count": 11,
      "metadata": {},
      "outputs": [],
      "source": [
        "import numpy as np"
      ]
    },
    {
      "cell_type": "code",
      "execution_count": 12,
      "metadata": {},
      "outputs": [
        {
          "name": "stdout",
          "output_type": "stream",
          "text": [
            "new m: 1.0\n",
            "new b: 1.0\n"
          ]
        }
      ],
      "source": [
        "#Q1.1\n",
        "\n",
        "m = 1\n",
        "b = 1\n",
        "x = 3\n",
        "y = 4\n",
        "alpha = 0.1\n",
        "\n",
        "y_pred = m * x + b\n",
        "d_m = -2 * x * (y - y_pred)\n",
        "d_b = -2 * (y - y_pred)\n",
        "m -= alpha * d_m\n",
        "b -= alpha * d_b\n",
        "\n",
        "print(\"new m:\", m)\n",
        "print(\"new b:\", b)"
      ]
    },
    {
      "cell_type": "code",
      "execution_count": 13,
      "metadata": {},
      "outputs": [
        {
          "name": "stdout",
          "output_type": "stream",
          "text": [
            "new m: 0.3999999999999999\n",
            "new b: 0.8\n"
          ]
        }
      ],
      "source": [
        "#1.2\n",
        "m = 1\n",
        "b = 1\n",
        "x = 3\n",
        "y = 3\n",
        "alpha = 0.1\n",
        "\n",
        "y_pred = m * x + b\n",
        "d_m = -2 * x * (y - y_pred)\n",
        "d_b = -2 * (y - y_pred)\n",
        "m -= alpha * d_m\n",
        "b -= alpha * d_b\n",
        "\n",
        "print(\"new m:\", m)\n",
        "print(\"new b:\", b)"
      ]
    },
    {
      "cell_type": "code",
      "execution_count": 16,
      "metadata": {
        "colab": {
          "base_uri": "https://localhost:8080/"
        },
        "id": "InI2gAe8aBwQ",
        "outputId": "07a63a60-0a83-4ab0-8dff-473fccf220f4"
      },
      "outputs": [
        {
          "name": "stdout",
          "output_type": "stream",
          "text": [
            "new m: -2.0\n",
            "new b: 0.5333333333333332\n"
          ]
        }
      ],
      "source": [
        "#Q1.3\n",
        "\n",
        "m = 1\n",
        "b = 1\n",
        "data = [(3, 3), (4, 2), (10, 8)]\n",
        "alpha = 0.1\n",
        "total_d_m = 0\n",
        "total_d_b = 0\n",
        "for x, y in data:\n",
        "    y_pred = m * x + b\n",
        "    d_m = -2 * x * (y - y_pred)\n",
        "    d_b = -2 * (y - y_pred)\n",
        "    total_d_m += d_m\n",
        "    total_d_b += d_b\n",
        "m -= alpha * total_d_m / len(data)\n",
        "b -= alpha * total_d_b / len(data)\n",
        "\n",
        "\n",
        "print(\"new m:\", m)\n",
        "print(\"new b:\", b)\n"
      ]
    },
    {
      "cell_type": "code",
      "execution_count": 17,
      "metadata": {},
      "outputs": [
        {
          "name": "stdout",
          "output_type": "stream",
          "text": [
            "new m: -3.880000000000001\n",
            "new b: 0.43999999999999995\n"
          ]
        }
      ],
      "source": [
        "#Q1.4\n",
        "\n",
        "m = 1\n",
        "b = 1\n",
        "data = [(3, 3), (4, 2), (10, 8),(3,4),(11,5)]\n",
        "alpha = 0.1\n",
        "total_d_m = 0\n",
        "total_d_b = 0\n",
        "for x, y in data:\n",
        "    y_pred = m * x + b\n",
        "    d_m = -2 * x * (y - y_pred)\n",
        "    d_b = -2 * (y - y_pred)\n",
        "    total_d_m += d_m\n",
        "    total_d_b += d_b\n",
        "m -= alpha * total_d_m / len(data)\n",
        "b -= alpha * total_d_b / len(data)\n",
        "\n",
        "\n",
        "print(\"new m:\", m)\n",
        "print(\"new b:\", b)"
      ]
    },
    {
      "cell_type": "code",
      "execution_count": 18,
      "metadata": {},
      "outputs": [
        {
          "name": "stdout",
          "output_type": "stream",
          "text": [
            "new m: -49787.0\n",
            "new b: -91.2\n"
          ]
        }
      ],
      "source": [
        "#Q1.5\n",
        "m = 1\n",
        "b = 1\n",
        "x = 540\n",
        "y = 80\n",
        "alpha = 0.1\n",
        "\n",
        "y_pred = m * x + b\n",
        "d_m = -2 * x * (y - y_pred)\n",
        "d_b = -2 * (y - y_pred)\n",
        "m -= alpha * d_m\n",
        "b -= alpha * d_b\n",
        "\n",
        "print(\"new m:\", m)\n",
        "print(\"new b:\", b)"
      ]
    },
    {
      "cell_type": "code",
      "execution_count": 19,
      "metadata": {},
      "outputs": [
        {
          "name": "stdout",
          "output_type": "stream",
          "text": [
            "new m: -26981.400000000005\n",
            "new b: -63.93333333333334\n"
          ]
        }
      ],
      "source": [
        "m = 1\n",
        "b = 1\n",
        "data = [(540,80),(332,40),(266,47)]\n",
        "alpha = 0.1\n",
        "total_d_m = 0\n",
        "total_d_b = 0\n",
        "for x, y in data:\n",
        "    y_pred = m * x + b\n",
        "    d_m = -2 * x * (y - y_pred)\n",
        "    d_b = -2 * (y - y_pred)\n",
        "    total_d_m += d_m\n",
        "    total_d_b += d_b\n",
        "m -= alpha * total_d_m / len(data)\n",
        "b -= alpha * total_d_b / len(data)\n",
        "\n",
        "\n",
        "print(\"new m:\", m)\n",
        "print(\"new b:\", b)"
      ]
    },
    {
      "cell_type": "code",
      "execution_count": 21,
      "metadata": {},
      "outputs": [
        {
          "name": "stdout",
          "output_type": "stream",
          "text": [
            "new m: -22600.36\n",
            "new b: -57.92\n"
          ]
        }
      ],
      "source": [
        "#Q1.7\n",
        "m = 1\n",
        "b = 1\n",
        "data = [(540,80),(332,40),(266,47),(380,44),(199,38)]\n",
        "alpha = 0.1\n",
        "total_d_m = 0\n",
        "total_d_b = 0\n",
        "for x, y in data:\n",
        "    y_pred = m * x + b\n",
        "    d_m = -2 * x * (y - y_pred)\n",
        "    d_b = -2 * (y - y_pred)\n",
        "    total_d_m += d_m\n",
        "    total_d_b += d_b\n",
        "m -= alpha * total_d_m / len(data)\n",
        "b -= alpha * total_d_b / len(data)\n",
        "\n",
        "\n",
        "print(\"new m:\", m)\n",
        "print(\"new b:\", b)"
      ]
    },
    {
      "cell_type": "code",
      "execution_count": 22,
      "metadata": {},
      "outputs": [
        {
          "name": "stdout",
          "output_type": "stream",
          "text": [
            "new m: 1506.3200000000002\n",
            "new b: -338.72\n"
          ]
        }
      ],
      "source": [
        "#Q1.8\n",
        "m = 1\n",
        "b = -350\n",
        "data = [(540,80),(332,40),(266,47),(380,44),(199,38)]\n",
        "alpha = 0.1\n",
        "total_d_m = 0\n",
        "total_d_b = 0\n",
        "for x, y in data:\n",
        "    y_pred = m * x + b\n",
        "    d_m = -2 * x * (y - y_pred)\n",
        "    d_b = -2 * (y - y_pred)\n",
        "    total_d_m += d_m\n",
        "    total_d_b += d_b\n",
        "m -= alpha * total_d_m / len(data)\n",
        "b -= alpha * total_d_b / len(data)\n",
        "\n",
        "\n",
        "print(\"new m:\", m)\n",
        "print(\"new b:\", b)"
      ]
    },
    {
      "cell_type": "code",
      "execution_count": 23,
      "metadata": {},
      "outputs": [
        {
          "name": "stdout",
          "output_type": "stream",
          "text": [
            "new m: -21.60136\n",
            "new b: 0.94108\n"
          ]
        }
      ],
      "source": [
        "#Q1.9\n",
        "m = 1\n",
        "b = 1\n",
        "data = [(540,80),(332,40),(266,47),(380,44),(199,38)]\n",
        "alpha = 0.0001\n",
        "total_d_m = 0\n",
        "total_d_b = 0\n",
        "for x, y in data:\n",
        "    y_pred = m * x + b\n",
        "    d_m = -2 * x * (y - y_pred)\n",
        "    d_b = -2 * (y - y_pred)\n",
        "    total_d_m += d_m\n",
        "    total_d_b += d_b\n",
        "m -= alpha * total_d_m / len(data)\n",
        "b -= alpha * total_d_b / len(data)\n",
        "\n",
        "\n",
        "print(\"new m:\", m)\n",
        "print(\"new b:\", b)"
      ]
    },
    {
      "cell_type": "code",
      "execution_count": 24,
      "metadata": {},
      "outputs": [
        {
          "name": "stdout",
          "output_type": "stream",
          "text": [
            "new m: 5.98908\n",
            "new b: 10.6752\n"
          ]
        }
      ],
      "source": [
        "#Q1.9\n",
        "m = 1\n",
        "b = 1\n",
        "data = [(1,80),(0.39,40),(0.2,47),(0.53,44),(0,38)]\n",
        "alpha = 0.1\n",
        "total_d_m = 0\n",
        "total_d_b = 0\n",
        "for x, y in data:\n",
        "    y_pred = m * x + b\n",
        "    d_m = -2 * x * (y - y_pred)\n",
        "    d_b = -2 * (y - y_pred)\n",
        "    total_d_m += d_m\n",
        "    total_d_b += d_b\n",
        "m -= alpha * total_d_m / len(data)\n",
        "b -= alpha * total_d_b / len(data)\n",
        "\n",
        "\n",
        "print(\"new m:\", m)\n",
        "print(\"new b:\", b)"
      ]
    },
    {
      "cell_type": "code",
      "execution_count": null,
      "metadata": {},
      "outputs": [],
      "source": []
    }
  ],
  "metadata": {
    "colab": {
      "provenance": []
    },
    "kernelspec": {
      "display_name": "Python 3",
      "name": "python3"
    },
    "language_info": {
      "codemirror_mode": {
        "name": "ipython",
        "version": 3
      },
      "file_extension": ".py",
      "mimetype": "text/x-python",
      "name": "python",
      "nbconvert_exporter": "python",
      "pygments_lexer": "ipython3",
      "version": "3.9.6"
    }
  },
  "nbformat": 4,
  "nbformat_minor": 0
}
