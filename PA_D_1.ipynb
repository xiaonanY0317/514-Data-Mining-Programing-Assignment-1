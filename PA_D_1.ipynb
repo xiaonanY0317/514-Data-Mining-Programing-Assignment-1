{
 "cells": [
  {
   "cell_type": "code",
   "execution_count": 5,
   "metadata": {},
   "outputs": [],
   "source": [
    "import numpy as np\n",
    "import pandas as pd"
   ]
  },
  {
   "cell_type": "code",
   "execution_count": 16,
   "metadata": {},
   "outputs": [
    {
     "name": "stdout",
     "output_type": "stream",
     "text": [
      "new m1,  new m2, new m3): -4.4 -6.2 -8.0\n",
      "new b: -0.8\n"
     ]
    }
   ],
   "source": [
    "#Q1.1\n",
    "m=[1,1,1]\n",
    "b = 1\n",
    "x = [3,4,5]\n",
    "y = 4\n",
    "lr = 0.1\n",
    "\n",
    "y_pred = np.dot(m,x) + b\n",
    "d_m1 = -2 * x[0] * (y - y_pred)\n",
    "d_m2 = -2 * x[1] * (y - y_pred)\n",
    "d_m3 = -2 * x[2] * (y - y_pred)\n",
    "d_b = -2 * (y - y_pred)\n",
    "\n",
    "m[0] -= lr * d_m1\n",
    "m[1] -= lr * d_m2\n",
    "m[2] -= lr * d_m3\n",
    "b -= lr * d_b\n",
    "\n",
    "print(\"new m1,  new m2, new m3):\", m[0], m[1], m[2])\n",
    "print(\"new b:\", b)\n"
   ]
  },
  {
   "cell_type": "code",
   "execution_count": 40,
   "metadata": {},
   "outputs": [
    {
     "name": "stdout",
     "output_type": "stream",
     "text": [
      "new m1,  new m2, new m3: -10.080000000000002 -3.5200000000000005 -4.840000000000001\n",
      "new b: -0.72\n"
     ]
    }
   ],
   "source": [
    "#Q1.2\n",
    "m=[1,1,1]\n",
    "b=1\n",
    "data = [[3,4,4],[4,2,1],[10,2,5],[3,4,5],[11,1,1]]\n",
    "y = [3,2,8,4,5]\n",
    "lr = 0.1\n",
    "\n",
    "d_m1 = 0\n",
    "d_m2 = 0\n",
    "d_m3 = 0\n",
    "d_b = 0\n",
    "\n",
    "for i in range(len(data)):\n",
    "    x=data[i]\n",
    "    y_pred = np.dot(m,x) + b\n",
    "    d_m1 += -2 * x[0] * (y[i] - y_pred)\n",
    "    d_m2 += -2 * x[1] * (y[i] - y_pred)\n",
    "    d_m3 += -2 * x[2] * (y[i] - y_pred)\n",
    "    d_b += -2 * (y[i] - y_pred)\n",
    "\n",
    "m[0] -= lr * (d_m1)/len(data)\n",
    "m[1] -= lr * (d_m2)/len(data)\n",
    "m[2] -= lr * (d_m3)/len(data)\n",
    "b -= lr * (d_b)/len(data)\n",
    "\n",
    "print(\"new m1,  new m2, new m3:\", m[0], m[1], m[2])\n",
    "print(\"new b:\", b)"
   ]
  },
  {
   "cell_type": "code",
   "execution_count": 41,
   "metadata": {},
   "outputs": [
    {
     "name": "stdout",
     "output_type": "stream",
     "text": [
      "new m1,  new m2, new m3: -22987.24 -80.68 -266.04\n",
      "new b: -59.36\n"
     ]
    }
   ],
   "source": [
    "#Q1.2\n",
    "m=[1,1,1]\n",
    "b=1\n",
    "data = [[540,0,2],[332,0,10],[266,1,1],[380,0,2],[199,10,10]]\n",
    "y = [80,40,47,44,38]\n",
    "lr = 0.1\n",
    "\n",
    "d_m1 = 0\n",
    "d_m2 = 0\n",
    "d_m3 = 0\n",
    "d_b = 0\n",
    "\n",
    "for i in range(len(data)):\n",
    "    x=data[i]\n",
    "    y_pred = np.dot(m,x) + b\n",
    "    d_m1 += -2 * x[0] * (y[i] - y_pred)\n",
    "    d_m2 += -2 * x[1] * (y[i] - y_pred)\n",
    "    d_m3 += -2 * x[2] * (y[i] - y_pred)\n",
    "    d_b += -2 * (y[i] - y_pred)\n",
    "\n",
    "m[0] -= lr * (d_m1)/len(data)\n",
    "m[1] -= lr * (d_m2)/len(data)\n",
    "m[2] -= lr * (d_m3)/len(data)\n",
    "b -= lr * (d_b)/len(data)\n",
    "\n",
    "print(\"new m1,  new m2, new m3:\", m[0], m[1], m[2])\n",
    "print(\"new b:\", b)"
   ]
  }
 ],
 "metadata": {
  "kernelspec": {
   "display_name": "Python 3",
   "language": "python",
   "name": "python3"
  },
  "language_info": {
   "codemirror_mode": {
    "name": "ipython",
    "version": 3
   },
   "file_extension": ".py",
   "mimetype": "text/x-python",
   "name": "python",
   "nbconvert_exporter": "python",
   "pygments_lexer": "ipython3",
   "version": "3.9.6"
  }
 },
 "nbformat": 4,
 "nbformat_minor": 2
}
